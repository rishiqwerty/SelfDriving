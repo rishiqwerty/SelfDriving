{
  "nbformat": 4,
  "nbformat_minor": 0,
  "metadata": {
    "colab": {
      "name": "Untitled0.ipynb",
      "provenance": []
    },
    "kernelspec": {
      "name": "python3",
      "display_name": "Python 3"
    },
    "language_info": {
      "name": "python"
    },
    "accelerator": "GPU"
  },
  "cells": [
    {
      "cell_type": "code",
      "metadata": {
        "id": "1LUtc9yzs4vK"
      },
      "source": [
        "import numpy as np\n",
        "import matplotlib.pyplot as plt\n",
        "import seaborn as sns\n",
        "sns.set()"
      ],
      "execution_count": 8,
      "outputs": []
    },
    {
      "cell_type": "code",
      "metadata": {
        "colab": {
          "base_uri": "https://localhost:8080/",
          "height": 322
        },
        "id": "PMQsX5V4s_ez",
        "outputId": "5258796c-1c64-4d2c-b8e5-3fd9d64624f5"
      },
      "source": [
        "plt.figure(figsize = (10, 5))\n",
        "bins = np.linspace(-10, 10, 100)\n",
        "\n",
        "solution = np.random.randn(100)\n",
        "w = np.random.randn(100)\n",
        "\n",
        "plt.hist(solution, bins, alpha = 0.5, label = 'solution', color = 'r')\n",
        "plt.hist(w, bins, alpha = 0.5, label = 'random', color = 'y')\n",
        "plt.legend()\n",
        "plt.show()"
      ],
      "execution_count": 9,
      "outputs": [
        {
          "output_type": "display_data",
          "data": {
            "image/png": "[encoded data removed]",
            "text/plain": [
              "<Figure size 720x360 with 1 Axes>"
            ]
          },
          "metadata": {
            "tags": []
          }
        }
      ]
    },
    {
      "cell_type": "code",
      "metadata": {
        "colab": {
          "base_uri": "https://localhost:8080/"
        },
        "id": "wmHEnzt2tC9e",
        "outputId": "b45d041c-72eb-4f95-fc19-8488b93f65b4"
      },
      "source": [
        "def f(w):\n",
        "    return -np.sum(np.square(solution - w))\n",
        "\n",
        "\n",
        "npop = 50\n",
        "sigma = 0.1\n",
        "alpha = 0.001\n",
        "\n",
        "for i in range(5000):\n",
        "\n",
        "    if (i + 1) % 1000 == 0:\n",
        "        print(\n",
        "            'iter %d. w: %s, solution: %s, reward: %f'\n",
        "            % (i + 1, str(w[-1]), str(solution[-1]), f(w))\n",
        "        )\n",
        "    N = np.random.randn(npop, 100)\n",
        "    R = np.zeros(npop)\n",
        "    for j in range(npop):\n",
        "        w_try = w + sigma * N[j]\n",
        "        R[j] = f(w_try)\n",
        "\n",
        "    A = (R - np.mean(R)) / np.std(R)\n",
        "    w = w + alpha / (npop * sigma) * np.dot(N.T, A)"
      ],
      "execution_count": 10,
      "outputs": [
        {
          "output_type": "stream",
          "text": [
            "iter 1000. w: -0.5617010123811547, solution: -0.2743529074320583, reward: -12.694795\n",
            "iter 2000. w: -0.28023153267316975, solution: -0.2743529074320583, reward: -0.007935\n",
            "iter 3000. w: -0.2696749266060992, solution: -0.2743529074320583, reward: -0.006470\n",
            "iter 4000. w: -0.268573974533994, solution: -0.2743529074320583, reward: -0.007935\n",
            "iter 5000. w: -0.2806765455465561, solution: -0.2743529074320583, reward: -0.008532\n"
          ],
          "name": "stdout"
        }
      ]
    },
    {
      "cell_type": "code",
      "metadata": {
        "colab": {
          "base_uri": "https://localhost:8080/",
          "height": 322
        },
        "id": "_jf_a-YPtD-j",
        "outputId": "fa3f2bd4-8b30-4eec-b262-3b1b327bb34b"
      },
      "source": [
        "plt.figure(figsize=(10,5))\n",
        "\n",
        "sigma = 0.1\n",
        "N = np.random.randn(npop, 100)\n",
        "individuals = []\n",
        "for j in range(2):\n",
        "    individuals.append(w + sigma * N[j])\n",
        "    \n",
        "    \n",
        "plt.hist(w, bins, alpha=0.5, label='w',color='r')\n",
        "plt.hist(individuals[0], bins, alpha=0.5, label='individual 1')\n",
        "plt.hist(individuals[1], bins, alpha=0.5, label='individual 2')\n",
        "plt.legend()\n",
        "plt.show()"
      ],
      "execution_count": 11,
      "outputs": [
        {
          "output_type": "display_data",
          "data": {
            "image/png": "[encoded data removed]",
            "text/plain": [
              "<Figure size 720x360 with 1 Axes>"
            ]
          },
          "metadata": {
            "tags": []
          }
        }
      ]
    },
    {
      "cell_type": "code",
      "metadata": {
        "colab": {
          "base_uri": "https://localhost:8080/",
          "height": 195
        },
        "id": "wFfcL1uMtJib",
        "outputId": "2e5f9685-ade1-4c69-dddc-07153c307561"
      },
      "source": [
        "import pandas as pd\n",
        "google = pd.read_csv('/content/GOOG.csv')\n",
        "google.head()"
      ],
      "execution_count": 12,
      "outputs": [
        {
          "output_type": "execute_result",
          "data": {
            "text/html": [
              "<div>\n",
              "<style scoped>\n",
              "    .dataframe tbody tr th:only-of-type {\n",
              "        vertical-align: middle;\n",
              "    }\n",
              "\n",
              "    .dataframe tbody tr th {\n",
              "        vertical-align: top;\n",
              "    }\n",
              "\n",
              "    .dataframe thead th {\n",
              "        text-align: right;\n",
              "    }\n",
              "</style>\n",
              "<table border=\"1\" class=\"dataframe\">\n",
              "  <thead>\n",
              "    <tr style=\"text-align: right;\">\n",
              "      <th></th>\n",
              "      <th>Date</th>\n",
              "      <th>Open</th>\n",
              "      <th>High</th>\n",
              "      <th>Low</th>\n",
              "      <th>Close</th>\n",
              "      <th>Adj Close</th>\n",
              "      <th>Volume</th>\n",
              "    </tr>\n",
              "  </thead>\n",
              "  <tbody>\n",
              "    <tr>\n",
              "      <th>0</th>\n",
              "      <td>2020-05-07</td>\n",
              "      <td>1365.939941</td>\n",
              "      <td>1377.599976</td>\n",
              "      <td>1355.270020</td>\n",
              "      <td>1372.560059</td>\n",
              "      <td>1372.560059</td>\n",
              "      <td>1397600</td>\n",
              "    </tr>\n",
              "    <tr>\n",
              "      <th>1</th>\n",
              "      <td>2020-05-08</td>\n",
              "      <td>1383.130005</td>\n",
              "      <td>1398.760010</td>\n",
              "      <td>1375.479980</td>\n",
              "      <td>1388.369995</td>\n",
              "      <td>1388.369995</td>\n",
              "      <td>1386900</td>\n",
              "    </tr>\n",
              "    <tr>\n",
              "      <th>2</th>\n",
              "      <td>2020-05-11</td>\n",
              "      <td>1378.280029</td>\n",
              "      <td>1416.530029</td>\n",
              "      <td>1377.151978</td>\n",
              "      <td>1403.260010</td>\n",
              "      <td>1403.260010</td>\n",
              "      <td>1412100</td>\n",
              "    </tr>\n",
              "    <tr>\n",
              "      <th>3</th>\n",
              "      <td>2020-05-12</td>\n",
              "      <td>1407.119995</td>\n",
              "      <td>1415.000000</td>\n",
              "      <td>1374.770020</td>\n",
              "      <td>1375.739990</td>\n",
              "      <td>1375.739990</td>\n",
              "      <td>1390600</td>\n",
              "    </tr>\n",
              "    <tr>\n",
              "      <th>4</th>\n",
              "      <td>2020-05-13</td>\n",
              "      <td>1377.050049</td>\n",
              "      <td>1385.482056</td>\n",
              "      <td>1328.400024</td>\n",
              "      <td>1349.329956</td>\n",
              "      <td>1349.329956</td>\n",
              "      <td>1812600</td>\n",
              "    </tr>\n",
              "  </tbody>\n",
              "</table>\n",
              "</div>"
            ],
            "text/plain": [
              "         Date         Open         High  ...        Close    Adj Close   Volume\n",
              "0  2020-05-07  1365.939941  1377.599976  ...  1372.560059  1372.560059  1397600\n",
              "1  2020-05-08  1383.130005  1398.760010  ...  1388.369995  1388.369995  1386900\n",
              "2  2020-05-11  1378.280029  1416.530029  ...  1403.260010  1403.260010  1412100\n",
              "3  2020-05-12  1407.119995  1415.000000  ...  1375.739990  1375.739990  1390600\n",
              "4  2020-05-13  1377.050049  1385.482056  ...  1349.329956  1349.329956  1812600\n",
              "\n",
              "[5 rows x 7 columns]"
            ]
          },
          "metadata": {
            "tags": []
          },
          "execution_count": 12
        }
      ]
    },
    {
      "cell_type": "code",
      "metadata": {
        "id": "JH8b9pihtJWq"
      },
      "source": [
        "def get_state(data, t, n):\n",
        "    d = t - n + 1\n",
        "    block = data[d : t + 1] if d >= 0 else -d * [data[0]] + data[: t + 1]\n",
        "    res = []\n",
        "    for i in range(n - 1):\n",
        "        res.append(block[i + 1] - block[i])\n",
        "    return np.array([res])"
      ],
      "execution_count": 13,
      "outputs": []
    },
    {
      "cell_type": "code",
      "metadata": {
        "colab": {
          "base_uri": "https://localhost:8080/"
        },
        "id": "ALCxICwktTzB",
        "outputId": "7b66c09a-9b0a-476d-9f01-597e7332c372"
      },
      "source": [
        "close = google.Close.values.tolist()\n",
        "get_state(close, 0, 10)"
      ],
      "execution_count": 14,
      "outputs": [
        {
          "output_type": "execute_result",
          "data": {
            "text/plain": [
              "array([[0., 0., 0., 0., 0., 0., 0., 0., 0.]])"
            ]
          },
          "metadata": {
            "tags": []
          },
          "execution_count": 14
        }
      ]
    },
    {
      "cell_type": "code",
      "metadata": {
        "id": "0LP2q83TtYFX"
      },
      "source": [
        "class Deep_Evolution_Strategy:\n",
        "    def __init__(\n",
        "        self, weights, reward_function, population_size, sigma, learning_rate\n",
        "    ):\n",
        "        self.weights = weights\n",
        "        self.reward_function = reward_function\n",
        "        self.population_size = population_size\n",
        "        self.sigma = sigma\n",
        "        self.learning_rate = learning_rate\n",
        "\n",
        "    def _get_weight_from_population(self, weights, population):\n",
        "        weights_population = []\n",
        "        for index, i in enumerate(population):\n",
        "            jittered = self.sigma * i\n",
        "            weights_population.append(weights[index] + jittered)\n",
        "        return weights_population\n",
        "\n",
        "    def get_weights(self):\n",
        "        return self.weights\n",
        "\n",
        "    def train(self, epoch = 100, print_every = 1):\n",
        "        lasttime = time.time()\n",
        "        for i in range(epoch):\n",
        "            population = []\n",
        "            rewards = np.zeros(self.population_size)\n",
        "            for k in range(self.population_size):\n",
        "                x = []\n",
        "                for w in self.weights:\n",
        "                    x.append(np.random.randn(*w.shape))\n",
        "                population.append(x)\n",
        "            for k in range(self.population_size):\n",
        "                weights_population = self._get_weight_from_population(\n",
        "                    self.weights, population[k]\n",
        "                )\n",
        "                rewards[k] = self.reward_function(weights_population)\n",
        "            rewards = (rewards - np.mean(rewards)) / np.std(rewards)\n",
        "            for index, w in enumerate(self.weights):\n",
        "                A = np.array([p[index] for p in population])\n",
        "                self.weights[index] = (\n",
        "                    w\n",
        "                    + self.learning_rate\n",
        "                    / (self.population_size * self.sigma)\n",
        "                    * np.dot(A.T, rewards).T\n",
        "                )\n",
        "            if (i + 1) % print_every == 0:\n",
        "                print(\n",
        "                    'iter %d. reward: %f'\n",
        "                    % (i + 1, self.reward_function(self.weights))\n",
        "                )\n",
        "        print('time taken to train:', time.time() - lasttime, 'seconds')"
      ],
      "execution_count": 15,
      "outputs": []
    },
    {
      "cell_type": "code",
      "metadata": {
        "id": "VtOyRJIptZYp"
      },
      "source": [
        "class Model:\n",
        "    def __init__(self, input_size, layer_size, output_size):\n",
        "        self.weights = [\n",
        "            np.random.randn(input_size, layer_size),\n",
        "            np.random.randn(layer_size, output_size),\n",
        "            np.random.randn(layer_size, 1),\n",
        "            np.random.randn(1, layer_size),\n",
        "        ]\n",
        "\n",
        "    def predict(self, inputs):\n",
        "        feed = np.dot(inputs, self.weights[0]) + self.weights[-1]\n",
        "        decision = np.dot(feed, self.weights[1])\n",
        "        buy = np.dot(feed, self.weights[2])\n",
        "        return decision, buy\n",
        "\n",
        "    def get_weights(self):\n",
        "        return self.weights\n",
        "\n",
        "    def set_weights(self, weights):\n",
        "        self.weights = weights"
      ],
      "execution_count": 16,
      "outputs": []
    },
    {
      "cell_type": "code",
      "metadata": {
        "id": "vnR70Xw5tcb3"
      },
      "source": [
        "window_size = 30\n",
        "model = Model(window_size, 500, 3)"
      ],
      "execution_count": 17,
      "outputs": []
    },
    {
      "cell_type": "code",
      "metadata": {
        "colab": {
          "base_uri": "https://localhost:8080/"
        },
        "id": "Um7oddHotiZk",
        "outputId": "a582fa90-a99c-488d-9080-20c5598d288c"
      },
      "source": [
        "initial_money = 10000\n",
        "starting_money = initial_money\n",
        "len_close = len(close) - 1\n",
        "weight = model\n",
        "skip = 1\n",
        "\n",
        "state = get_state(close, 0, window_size + 1)\n",
        "inventory = []\n",
        "quantity = 0\n",
        "\n",
        "max_buy = 5\n",
        "max_sell = 5\n",
        "\n",
        "\n",
        "def act(model, sequence):\n",
        "    decision, buy = model.predict(np.array(sequence))\n",
        "    return np.argmax(decision[0]), int(buy[0])\n",
        "\n",
        "\n",
        "for t in range(0, len_close, skip):\n",
        "    action, buy = act(weight, state)\n",
        "    next_state = get_state(close, t + 1, window_size + 1)\n",
        "    if action == 1 and initial_money >= close[t]:\n",
        "        if buy < 0:\n",
        "            buy = 1\n",
        "        if buy > max_buy:\n",
        "            buy_units = max_buy\n",
        "        else:\n",
        "            buy_units = buy\n",
        "        total_buy = buy_units * close[t]\n",
        "        initial_money -= total_buy\n",
        "        inventory.append(total_buy)\n",
        "        quantity += buy_units\n",
        "    elif action == 2 and len(inventory) > 0:\n",
        "        if quantity > max_sell:\n",
        "            sell_units = max_sell\n",
        "        else:\n",
        "            sell_units = quantity\n",
        "        quantity -= sell_units\n",
        "        total_sell = sell_units * close[t]\n",
        "        initial_money += total_sell\n",
        "\n",
        "    state = next_state\n",
        "((initial_money - starting_money) / starting_money) * 100"
      ],
      "execution_count": 18,
      "outputs": [
        {
          "output_type": "execute_result",
          "data": {
            "text/plain": [
              "-105.11498655000003"
            ]
          },
          "metadata": {
            "tags": []
          },
          "execution_count": 18
        }
      ]
    },
    {
      "cell_type": "code",
      "metadata": {
        "id": "u3ps_w_atkQU"
      },
      "source": [
        "import time\n",
        "\n",
        "\n",
        "class Agent:\n",
        "\n",
        "    POPULATION_SIZE = 15\n",
        "    SIGMA = 0.1\n",
        "    LEARNING_RATE = 0.03\n",
        "\n",
        "    def __init__(\n",
        "        self, model, money, max_buy, max_sell, close, window_size, skip\n",
        "    ):\n",
        "        self.window_size = window_size\n",
        "        self.skip = skip\n",
        "        self.close = close\n",
        "        self.model = model\n",
        "        self.initial_money = money\n",
        "        self.max_buy = max_buy\n",
        "        self.max_sell = max_sell\n",
        "        self.es = Deep_Evolution_Strategy(\n",
        "            self.model.get_weights(),\n",
        "            self.get_reward,\n",
        "            self.POPULATION_SIZE,\n",
        "            self.SIGMA,\n",
        "            self.LEARNING_RATE,\n",
        "        )\n",
        "\n",
        "    def act(self, sequence):\n",
        "        decision, buy = self.model.predict(np.array(sequence))\n",
        "        return np.argmax(decision[0]), int(buy[0])\n",
        "\n",
        "    def get_reward(self, weights):\n",
        "        initial_money = self.initial_money\n",
        "        starting_money = initial_money\n",
        "        len_close = len(self.close) - 1\n",
        "\n",
        "        self.model.weights = weights\n",
        "        state = get_state(self.close, 0, self.window_size + 1)\n",
        "        inventory = []\n",
        "        quantity = 0\n",
        "        for t in range(0, len_close, self.skip):\n",
        "            action, buy = self.act(state)\n",
        "            next_state = get_state(self.close, t + 1, self.window_size + 1)\n",
        "            if action == 1 and initial_money >= self.close[t]:\n",
        "                if buy < 0:\n",
        "                    buy = 1\n",
        "                if buy > self.max_buy:\n",
        "                    buy_units = self.max_buy\n",
        "                else:\n",
        "                    buy_units = buy\n",
        "                total_buy = buy_units * self.close[t]\n",
        "                initial_money -= total_buy\n",
        "                inventory.append(total_buy)\n",
        "                quantity += buy_units\n",
        "            elif action == 2 and len(inventory) > 0:\n",
        "                if quantity > self.max_sell:\n",
        "                    sell_units = self.max_sell\n",
        "                else:\n",
        "                    sell_units = quantity\n",
        "                quantity -= sell_units\n",
        "                total_sell = sell_units * self.close[t]\n",
        "                initial_money += total_sell\n",
        "\n",
        "            state = next_state\n",
        "        return ((initial_money - starting_money) / starting_money) * 100\n",
        "\n",
        "    def fit(self, iterations, checkpoint):\n",
        "        self.es.train(iterations, print_every = checkpoint)\n",
        "\n",
        "    def buy(self):\n",
        "        initial_money = self.initial_money\n",
        "        len_close = len(self.close) - 1\n",
        "        state = get_state(self.close, 0, self.window_size + 1)\n",
        "        starting_money = initial_money\n",
        "        states_sell = []\n",
        "        states_buy = []\n",
        "        inventory = []\n",
        "        quantity = 0\n",
        "        for t in range(0, len_close, self.skip):\n",
        "            action, buy = self.act(state)\n",
        "            next_state = get_state(self.close, t + 1, self.window_size + 1)\n",
        "            if action == 1 and initial_money >= self.close[t]:\n",
        "                if buy < 0:\n",
        "                    buy = 1\n",
        "                if buy > self.max_buy:\n",
        "                    buy_units = self.max_buy\n",
        "                else:\n",
        "                    buy_units = buy\n",
        "                total_buy = buy_units * self.close[t]\n",
        "                initial_money -= total_buy\n",
        "                inventory.append(total_buy)\n",
        "                quantity += buy_units\n",
        "                states_buy.append(t)\n",
        "                print(\n",
        "                    'day %d: buy %d units at price %f, total balance %f'\n",
        "                    % (t, buy_units, total_buy, initial_money)\n",
        "                )\n",
        "            elif action == 2 and len(inventory) > 0:\n",
        "                bought_price = inventory.pop(0)\n",
        "                if quantity > self.max_sell:\n",
        "                    sell_units = self.max_sell\n",
        "                else:\n",
        "                    sell_units = quantity\n",
        "                if sell_units < 1:\n",
        "                    continue\n",
        "                quantity -= sell_units\n",
        "                total_sell = sell_units * self.close[t]\n",
        "                initial_money += total_sell\n",
        "                states_sell.append(t)\n",
        "                try:\n",
        "                    invest = ((total_sell - bought_price) / bought_price) * 100\n",
        "                except:\n",
        "                    invest = 0\n",
        "                print(\n",
        "                    'day %d, sell %d units at price %f, investment %f %%, total balance %f,'\n",
        "                    % (t, sell_units, total_sell, invest, initial_money)\n",
        "                )\n",
        "            state = next_state\n",
        "\n",
        "        invest = ((initial_money - starting_money) / starting_money) * 100\n",
        "        print(\n",
        "            '\\ntotal gained %f, total investment %f %%'\n",
        "            % (initial_money - starting_money, invest)\n",
        "        )\n",
        "        plt.figure(figsize = (20, 10))\n",
        "        plt.plot(close, label = 'true close', c = 'g')\n",
        "        plt.plot(\n",
        "            close, 'X', label = 'predict buy', markevery = states_buy, c = 'b'\n",
        "        )\n",
        "        plt.plot(\n",
        "            close, 'o', label = 'predict sell', markevery = states_sell, c = 'r'\n",
        "        )\n",
        "        plt.legend()\n",
        "        plt.show()"
      ],
      "execution_count": 19,
      "outputs": []
    },
    {
      "cell_type": "code",
      "metadata": {
        "id": "IbM5m5_2toi6"
      },
      "source": [
        "model = Model(input_size = window_size, layer_size = 500, output_size = 3)\n",
        "agent = Agent(\n",
        "    model = model,\n",
        "    money = 10000,\n",
        "    max_buy = 5,\n",
        "    max_sell = 5,\n",
        "    close = close,\n",
        "    window_size = window_size,\n",
        "    skip = 1,\n",
        ")"
      ],
      "execution_count": 20,
      "outputs": []
    },
    {
      "cell_type": "code",
      "metadata": {
        "colab": {
          "base_uri": "https://localhost:8080/"
        },
        "id": "B8tg9S0RttZU",
        "outputId": "698d9a33-a30f-47a9-838b-f52476bb968f"
      },
      "source": [
        "agent.fit(iterations = 500, checkpoint = 10)"
      ],
      "execution_count": 21,
      "outputs": [
        {
          "output_type": "stream",
          "text": [
            "iter 10. reward: 106.100388\n",
            "iter 20. reward: 107.794637\n",
            "iter 30. reward: 115.506848\n",
            "iter 40. reward: 116.966981\n",
            "iter 50. reward: 129.815497\n",
            "iter 60. reward: 129.650709\n",
            "iter 70. reward: 141.232582\n",
            "iter 80. reward: 150.175890\n",
            "iter 90. reward: 149.234691\n",
            "iter 100. reward: 158.569398\n",
            "iter 110. reward: 169.844987\n",
            "iter 120. reward: 174.246997\n",
            "iter 130. reward: 167.262629\n",
            "iter 140. reward: 176.946935\n",
            "iter 150. reward: 182.216200\n",
            "iter 160. reward: 181.317703\n",
            "iter 170. reward: 185.298013\n",
            "iter 180. reward: 189.222761\n",
            "iter 190. reward: 178.196736\n",
            "iter 200. reward: 190.560536\n",
            "iter 210. reward: 187.456641\n",
            "iter 220. reward: 194.494635\n",
            "iter 230. reward: 186.507143\n",
            "iter 240. reward: 198.095338\n",
            "iter 250. reward: 226.481948\n",
            "iter 260. reward: 216.161629\n",
            "iter 270. reward: 223.094387\n",
            "iter 280. reward: 206.751245\n",
            "iter 290. reward: 236.412449\n",
            "iter 300. reward: 233.086837\n",
            "iter 310. reward: 230.011342\n",
            "iter 320. reward: 230.085399\n",
            "iter 330. reward: 227.936710\n",
            "iter 340. reward: 215.217606\n",
            "iter 350. reward: 231.784248\n",
            "iter 360. reward: 230.866143\n",
            "iter 370. reward: 232.058148\n",
            "iter 380. reward: 228.905742\n",
            "iter 390. reward: 223.786459\n",
            "iter 400. reward: 236.964050\n",
            "iter 410. reward: 234.688550\n",
            "iter 420. reward: 236.419257\n",
            "iter 430. reward: 236.680448\n",
            "iter 440. reward: 233.929456\n",
            "iter 450. reward: 240.353656\n",
            "iter 460. reward: 230.136940\n",
            "iter 470. reward: 239.080850\n",
            "iter 480. reward: 234.832460\n",
            "iter 490. reward: 228.504450\n",
            "iter 500. reward: 233.740354\n",
            "time taken to train: 129.22243213653564 seconds\n"
          ],
          "name": "stdout"
        }
      ]
    },
    {
      "cell_type": "code",
      "metadata": {
        "colab": {
          "base_uri": "https://localhost:8080/",
          "height": 1000
        },
        "id": "JFjExpyfuD5s",
        "outputId": "e4af7394-dd55-4b6a-8c94-aa6ccdddeac5"
      },
      "source": [
        "agent.buy()"
      ],
      "execution_count": 22,
      "outputs": [
        {
          "output_type": "stream",
          "text": [
            "day 3: buy 1 units at price 1375.739990, total balance 8624.260010\n",
            "day 6: buy 1 units at price 1373.189941, total balance 7251.070069\n",
            "day 7: buy 1 units at price 1383.939941, total balance 5867.130128\n",
            "day 8: buy 5 units at price 6867.424925, total balance -1000.294797\n",
            "day 13, sell 5 units at price 7089.199830, investment 415.300848 %, total balance 6088.905033,\n",
            "day 14: buy 5 units at price 7083.649900, total balance -994.744867\n",
            "day 17, sell 5 units at price 7196.099855, investment 424.042570 %, total balance 6201.354988,\n",
            "day 20, sell 3 units at price 4315.170045, investment 211.803274 %, total balance 10516.525033,\n",
            "day 24: buy 5 units at price 7019.199830, total balance 3497.325203\n",
            "day 25: buy 5 units at price 7065.900270, total balance -3568.575067\n",
            "day 27, sell 5 units at price 7213.599855, investment 2.769547 %, total balance 3645.024788,\n",
            "day 28, sell 5 units at price 7255.599975, investment 2.684721 %, total balance 10900.624763,\n",
            "day 33: buy 5 units at price 7159.849855, total balance 3740.774908\n",
            "day 34, sell 5 units at price 7206.649780, investment 0.653644 %, total balance 10947.424688,\n",
            "day 35: buy 5 units at price 6799.500120, total balance 4147.924568\n",
            "day 36: buy 5 units at price 6974.849855, total balance -2826.925287\n",
            "day 40, sell 5 units at price 7478.499755, investment 9.986023 %, total balance 4651.574468,\n",
            "day 41: buy 1 units at price 1485.180054, total balance 3166.394414\n",
            "day 45: buy 5 units at price 7556.699830, total balance -4390.305416\n",
            "day 50, sell 5 units at price 7828.599855, investment 12.240407 %, total balance 3438.294439,\n",
            "day 51, sell 5 units at price 7792.100220, investment 424.656940 %, total balance 11230.394659,\n",
            "day 55: buy 5 units at price 7650.999755, total balance 3579.394904\n",
            "day 56: buy 5 units at price 7501.699830, total balance -3922.304926\n",
            "day 57, sell 5 units at price 7610.100100, investment 0.706661 %, total balance 3687.795174,\n",
            "day 58, sell 5 units at price 7657.249755, investment 0.081689 %, total balance 11345.044929,\n",
            "day 59, sell 1 units at price 1482.959961, investment -80.231681 %, total balance 12828.004890,\n",
            "day 63: buy 5 units at price 7500.499880, total balance 5327.505010\n",
            "day 65: buy 5 units at price 7480.499880, total balance -2152.994870\n",
            "day 69, sell 5 units at price 7538.649900, investment 0.508633 %, total balance 5385.655030,\n",
            "day 70: buy 5 units at price 7589.899900, total balance -2204.244870\n",
            "day 71, sell 5 units at price 7792.999880, investment 4.177528 %, total balance 5588.755010,\n",
            "day 72: buy 1 units at price 1547.530029, total balance 4041.224981\n",
            "day 73: buy 1 units at price 1581.750000, total balance 2459.474981\n",
            "day 74: buy 5 units at price 7902.100220, total balance -5442.625239\n",
            "day 77, sell 5 units at price 8261.900025, investment 8.853873 %, total balance 2819.274786,\n",
            "day 78: buy 1 units at price 1634.329956, total balance 1184.944830\n",
            "day 82, sell 5 units at price 8641.400145, investment 458.399513 %, total balance 9826.344975,\n",
            "day 83, sell 3 units at price 4925.519898, investment 211.396864 %, total balance 14751.864873,\n",
            "day 89: buy 5 units at price 7596.400145, total balance 7155.464728\n",
            "day 90, sell 5 units at price 7707.199705, investment 1.458580 %, total balance 14862.664433,\n",
            "day 91: buy 1 units at price 1520.900024, total balance 13341.764409\n",
            "day 92, sell 1 units at price 1495.530029, investment -1.668091 %, total balance 14837.294438,\n",
            "day 95: buy 5 units at price 7327.299805, total balance 7509.994633\n",
            "day 96: buy 1 units at price 1415.209961, total balance 6094.784672\n",
            "day 97: buy 5 units at price 7141.450195, total balance -1046.665523\n",
            "day 99, sell 5 units at price 7322.600100, investment -0.064140 %, total balance 6275.934577,\n",
            "day 100: buy 1 units at price 1469.329956, total balance 4806.604621\n",
            "day 101, sell 5 units at price 7347.999880, investment 419.216235 %, total balance 12154.604501,\n",
            "day 104: buy 1 units at price 1486.020020, total balance 10668.584481\n",
            "day 105: buy 5 units at price 7267.199705, total balance 3401.384776\n",
            "day 106: buy 5 units at price 7301.450195, total balance -3900.065419\n",
            "day 109, sell 5 units at price 7845.750120, investment 9.862142 %, total balance 3945.684701,\n",
            "day 110, sell 5 units at price 7858.400270, investment 434.828834 %, total balance 11804.084971,\n",
            "day 113: buy 1 units at price 1573.010010, total balance 10231.074961\n",
            "day 114: buy 5 units at price 7673.049925, total balance 2558.025036\n",
            "day 115: buy 5 units at price 7779.650270, total balance -5221.625234\n",
            "day 118, sell 5 units at price 8205.000000, investment 452.145993 %, total balance 2983.374766,\n",
            "day 119, sell 5 units at price 7952.249755, investment 9.426603 %, total balance 10935.624521,\n",
            "day 122: buy 5 units at price 7836.199950, total balance 3099.424571\n",
            "day 123: buy 5 units at price 8105.050050, total balance -5005.625479\n",
            "day 127, sell 5 units at price 8816.849975, investment 20.754778 %, total balance 3811.224496,\n",
            "day 128, sell 5 units at price 8808.750000, investment 459.993258 %, total balance 12619.974496,\n",
            "day 129, sell 4 units at price 7052.000000, investment -8.093912 %, total balance 19671.974496,\n",
            "day 138: buy 1 units at price 1742.189941, total balance 17929.784555\n",
            "day 139: buy 5 units at price 8674.299925, total balance 9255.484630\n",
            "day 140: buy 5 units at price 8844.400025, total balance 411.084605\n",
            "day 144, sell 5 units at price 8990.499880, investment 416.045907 %, total balance 9401.584485,\n",
            "day 145, sell 5 units at price 9139.749755, investment 5.365849 %, total balance 18541.334240,\n",
            "day 146, sell 1 units at price 1826.770020, investment -79.345461 %, total balance 20368.104260,\n",
            "day 149: buy 1 units at price 1818.550049, total balance 18549.554211\n",
            "day 150: buy 5 units at price 8920.650025, total balance 9628.904186\n",
            "day 151: buy 1 units at price 1775.329956, total balance 7853.574230\n",
            "day 152, sell 5 units at price 8908.850100, investment 389.887540 %, total balance 16762.424330,\n",
            "day 153: buy 5 units at price 8800.300295, total balance 7962.124035\n",
            "day 154, sell 5 units at price 8838.850100, investment -0.916973 %, total balance 16800.974135,\n",
            "day 155: buy 5 units at price 8815.000000, total balance 7985.974135\n",
            "day 156: buy 1 units at price 1747.900024, total balance 6238.074111\n",
            "day 157: buy 5 units at price 8655.050050, total balance -2416.975939\n",
            "day 159, sell 5 units at price 8617.500000, investment 385.402726 %, total balance 6200.524061,\n",
            "day 160: buy 5 units at price 8661.900025, total balance -2461.375964\n",
            "day 163, sell 5 units at price 8793.599855, investment -0.076139 %, total balance 6332.223891,\n",
            "day 164: buy 5 units at price 8697.600100, total balance -2365.376209\n",
            "day 165, sell 5 units at price 8759.400025, investment -0.630743 %, total balance 6394.023816,\n",
            "day 167: buy 1 units at price 1740.920044, total balance 4653.103772\n",
            "day 168: buy 5 units at price 8676.450195, total balance -4023.346423\n",
            "day 173, sell 5 units at price 8772.000120, investment 401.859374 %, total balance 4748.653697,\n",
            "day 174: buy 1 units at price 1740.180054, total balance 3008.473643\n",
            "day 175: buy 5 units at price 8680.949705, total balance -5672.476062\n",
            "day 177, sell 5 units at price 9434.500120, investment 9.005726 %, total balance 3762.024058,\n",
            "day 180, sell 5 units at price 9497.000120, investment 9.641073 %, total balance 13259.024178,\n",
            "day 181, sell 5 units at price 9586.199950, investment 10.216610 %, total balance 22845.224128,\n",
            "day 182: buy 5 units at price 9153.950195, total balance 13691.273933\n",
            "day 184: buy 5 units at price 9178.699950, total balance 4512.573983\n",
            "day 185: buy 5 units at price 9506.749880, total balance -4994.175897\n",
            "day 188, sell 5 units at price 10311.850585, investment 492.321894 %, total balance 5317.674688,\n",
            "day 189, sell 5 units at price 10490.000000, investment 20.901979 %, total balance 15807.674688,\n",
            "day 192: buy 5 units at price 10476.899415, total balance 5330.775273\n",
            "day 193: buy 5 units at price 10479.449465, total balance -5148.674192\n",
            "day 195, sell 5 units at price 10609.499510, investment 509.678262 %, total balance 5460.825318,\n",
            "day 196, sell 5 units at price 10641.550295, investment 22.585093 %, total balance 16102.375613,\n",
            "day 197, sell 5 units at price 10585.999755, investment 15.644061 %, total balance 26688.375368,\n",
            "day 203: buy 1 units at price 2036.859985, total balance 24651.515383\n",
            "day 204, sell 1 units at price 2081.510010, investment 2.192101 %, total balance 26733.025393,\n",
            "day 210: buy 1 units at price 2052.699951, total balance 24680.325442\n",
            "day 211: buy 5 units at price 10275.150145, total balance 14405.175297\n",
            "day 212, sell 5 units at price 10573.850100, investment 415.119129 %, total balance 24979.025397,\n",
            "day 213: buy 1 units at price 2061.919922, total balance 22917.105475\n",
            "day 214: buy 5 units at price 10332.449950, total balance 12584.655525\n",
            "day 215, sell 5 units at price 10462.600100, investment 1.824304 %, total balance 23047.255625,\n",
            "day 216, sell 2 units at price 4182.160156, investment 102.828447 %, total balance 27229.415781,\n",
            "day 217: buy 1 units at price 2036.219971, total balance 25193.195810\n",
            "day 219: buy 5 units at price 10192.949830, total balance 15000.245980\n",
            "day 220: buy 5 units at price 10264.799805, total balance 4735.446175\n",
            "day 223: buy 5 units at price 10177.750245, total balance -5442.304070\n",
            "day 231, sell 5 units at price 11327.199705, investment 9.627434 %, total balance 5884.895635,\n",
            "day 233, sell 5 units at price 11273.950195, investment 453.670544 %, total balance 17158.845830,\n",
            "day 234: buy 5 units at price 11336.350100, total balance 5822.495730\n",
            "day 235: buy 5 units at price 11274.200440, total balance -5451.704710\n",
            "day 238, sell 5 units at price 11511.999510, investment 12.940804 %, total balance 6060.294800,\n",
            "day 239: buy 5 units at price 11468.149415, total balance -5407.854615\n",
            "day 246, sell 5 units at price 12149.449465, investment 18.360316 %, total balance 6741.594850,\n",
            "day 247, sell 5 units at price 12050.600585, investment 18.401418 %, total balance 18792.195435,\n",
            "day 248, sell 5 units at price 11975.849610, investment 5.641141 %, total balance 30768.045045,\n",
            "day 249, sell 1 units at price 2354.250000, investment -79.118253 %, total balance 33122.295045,\n",
            "\n",
            "total gained 23122.295045, total investment 231.222950 %\n"
          ],
          "name": "stdout"
        },
        {
          "output_type": "display_data",
          "data": {
            "image/png": "[encoded data removed]",
            "text/plain": [
              "<Figure size 1440x720 with 1 Axes>"
            ]
          },
          "metadata": {
            "tags": []
          }
        }
      ]
    }
  ]
}